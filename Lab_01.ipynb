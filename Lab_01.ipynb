{
 "cells": [
  {
   "cell_type": "markdown",
   "id": "b686f420",
   "metadata": {},
   "source": [
    "**Exercise 1**\n"
   ]
  },
  {
   "cell_type": "code",
   "execution_count": 2,
   "id": "de781c35",
   "metadata": {},
   "outputs": [
    {
     "name": "stdout",
     "output_type": "stream",
     "text": [
      "Hello, World!\n"
     ]
    }
   ],
   "source": [
    "print('Hello, World!')  # This is a comment"
   ]
  },
  {
   "cell_type": "markdown",
   "id": "f5e6ec36",
   "metadata": {},
   "source": [
    "**Exercise 2**\n",
    "\n",
    "Cho string s = \"Việc học tập là rất quan trọng nên, cần học, học nữa, học mãi\".\n",
    "\n",
    "1/ Xác định từ với tần số xuất hiện nhiều nhất, nếu có nhiều từ có cùng số lần xuất hiện nhiều nhất thì in ra các từ đó (cùng tần số của nó).\n",
    "\n",
    "2/ Xác định độ dài của mỗi từ trong câu (không quan tâm lặp lại)\n",
    "\n",
    "3/ Cho bộ từ điển {học, nữa, học sinh, học bạ, mãi, học tập}, hãy xác định các từ xuất hiện trong bộ từ điển"
   ]
  },
  {
   "cell_type": "code",
   "execution_count": 4,
   "id": "2ed88629",
   "metadata": {},
   "outputs": [
    {
     "name": "stdout",
     "output_type": "stream",
     "text": [
      "Các từ xuất hiện nhiều nhất (4 lần): học\n",
      "\n",
      "\n",
      "Độ dài của mỗi từ trong câu:\n",
      "việc: 4 ký tự\n",
      "học: 3 ký tự\n",
      "tập: 3 ký tự\n",
      "là: 2 ký tự\n",
      "rất: 3 ký tự\n",
      "quan: 4 ký tự\n",
      "trọng: 5 ký tự\n",
      "nên: 3 ký tự\n",
      "cần: 3 ký tự\n",
      "nữa: 3 ký tự\n",
      "mãi: 3 ký tự\n",
      "\n",
      "\n",
      "Các từ/cụm từ xuất hiện trong bộ từ điển:\n",
      "học\n",
      "học tập\n",
      "tập\n",
      "mãi\n",
      "nữa\n"
     ]
    }
   ],
   "source": [
    "s = \"Việc học tập là rất quan trọng nên, cần học, học nữa, học mãi\"\n",
    "\n",
    "text = s.lower()\n",
    "cleaned_text = \"\"\n",
    "for ch in text:\n",
    "    if ch.isalnum() or ch.isspace():\n",
    "        cleaned_text += ch\n",
    "    else:\n",
    "        cleaned_text += \" \"\n",
    "words = cleaned_text.split()\n",
    "\n",
    "#1/\n",
    "def frequency_analysis(words):\n",
    "    freq_dict = {}\n",
    "    for word in words:\n",
    "        freq_dict[word] = freq_dict.get(word, 0) + 1\n",
    "\n",
    "    max_freq = max(freq_dict.values())\n",
    "\n",
    "    print(f\"Các từ xuất hiện nhiều nhất ({max_freq} lần): \", end=\"\")\n",
    "    count_printed = 0\n",
    "    for word, count in freq_dict.items():\n",
    "        if count == max_freq:\n",
    "            if count_printed > 0:  # Không phải từ đầu tiên => in ra dấu phẩy\n",
    "                print(\", \", end=\"\")\n",
    "            print(word, end=\"\")\n",
    "            count_printed += 1\n",
    "    print()\n",
    "    print(\"\\n\")\n",
    "        \n",
    "frequency_analysis(words)\n",
    "\n",
    "#2/\n",
    "def word_lengths(words):\n",
    "    unique_words = []\n",
    "    for word in words:\n",
    "        if word not in unique_words:\n",
    "            unique_words.append(word)\n",
    "    lengths = {word: len(word) for word in unique_words}\n",
    "    print(\"Độ dài của mỗi từ trong câu:\")\n",
    "    for word, length in lengths.items():\n",
    "        print(f\"{word}: {length} ký tự\")\n",
    "    print(\"\\n\")\n",
    "        \n",
    "word_lengths(words)\n",
    "\n",
    "#3/\n",
    "dictionary = {\"học\", \"nữa\", \"học sinh\", \"học bạ\", \"mãi\", \"học tập\"}\n",
    "def check_dictionary(s, dictionary):\n",
    "    s_lower = s.lower()\n",
    "    cleaned_text = \"\"\n",
    "    for ch in s_lower:\n",
    "        if ch.isalnum() or ch.isspace():\n",
    "            cleaned_text += ch\n",
    "        else:\n",
    "            cleaned_text += \" \"\n",
    "    words_in_text = cleaned_text.split()\n",
    "    found_words = []\n",
    "\n",
    "    for phrase in dictionary:\n",
    "        phrase_lower = phrase.lower()\n",
    "\n",
    "        # Kiểm tra cụm từ\n",
    "        phrase_parts = phrase_lower.split()\n",
    "        if len(phrase_parts) > 1:\n",
    "            # Duyệt tất cả các vị trí bắt đầu có thể trong văn bản\n",
    "            for start_index in range(len(words_in_text)):\n",
    "                # Cắt đoạn văn bản có độ dài bằng cụm từ\n",
    "                slice_of_text = words_in_text[start_index : start_index + len(phrase_parts)]\n",
    "                # So sánh đoạn cắt với cụm từ\n",
    "                if slice_of_text == phrase_parts:\n",
    "                    # Nếu trùng khớp và chưa có trong danh sách kết quả\n",
    "                    if phrase_lower not in found_words:\n",
    "                        found_words.append(phrase_lower)\n",
    "                    break  # Tìm thấy rồi thì dừng, không cần tìm tiếp\n",
    "\n",
    "        # Kiểm tra từng từ đơn\n",
    "        for part in phrase_parts:\n",
    "            if part in words_in_text and part not in found_words:\n",
    "                found_words.append(part)\n",
    "\n",
    "    print(\"Các từ/cụm từ xuất hiện trong bộ từ điển:\")\n",
    "    for word in found_words:\n",
    "        print(word)\n",
    "\n",
    "check_dictionary(s, dictionary)\n",
    "    "
   ]
  }
 ],
 "metadata": {
  "kernelspec": {
   "display_name": "Python 3",
   "language": "python",
   "name": "python3"
  },
  "language_info": {
   "codemirror_mode": {
    "name": "ipython",
    "version": 3
   },
   "file_extension": ".py",
   "mimetype": "text/x-python",
   "name": "python",
   "nbconvert_exporter": "python",
   "pygments_lexer": "ipython3",
   "version": "3.13.5"
  }
 },
 "nbformat": 4,
 "nbformat_minor": 5
}
