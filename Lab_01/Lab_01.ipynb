{
 "cells": [
  {
   "cell_type": "code",
   "execution_count": 1,
   "id": "be4d4ae2",
   "metadata": {},
   "outputs": [
    {
     "name": "stdout",
     "output_type": "stream",
     "text": [
      "Import thành công các module:\n",
      "- Search_algorithms: 5 thuật toán tìm kiếm + Graph\n",
      "- Hello_problem: Bài toán HELLO WORLD + 5 thuật toán tối ưu\n",
      "- Puzzle_problem: Bài toán 8-puzzle + heuristic cải thiện\n"
     ]
    }
   ],
   "source": [
    "# Import các module đã tách riêng\n",
    "from Search_algorithms import Graph, bfs, ucs, dfs, dls, ids\n",
    "from Hello_problem import HelloProblem, bfs_hello, ucs_hello, dfs_hello, dls_hello, ids_hello, GOAL\n",
    "from Puzzle_problem import (PuzzleProblem, GOAL_STATE, \n",
    "                           bfs_puzzle, ucs_puzzle, dfs_puzzle, \n",
    "                           dls_puzzle, ids_puzzle, manhattan_distance)\n",
    "import time\n",
    "\n",
    "print(\"Import thành công các module:\")\n",
    "print(\"- Search_algorithms: 5 thuật toán tìm kiếm + Graph\")\n",
    "print(\"- Hello_problem: Bài toán HELLO WORLD + 5 thuật toán tối ưu\")\n",
    "print(\"- Puzzle_problem: Bài toán 8-puzzle + heuristic cải thiện\")"
   ]
  },
  {
   "cell_type": "markdown",
   "id": "1bafbb2d",
   "metadata": {},
   "source": [
    "# Bài 1/ Tìm đường đi ngắn nhất trên đồ thị"
   ]
  },
  {
   "cell_type": "code",
   "execution_count": null,
   "id": "b9dee2d7",
   "metadata": {},
   "outputs": [],
   "source": [
    "# Test thuật toán với đồ thị\n",
    "\n",
    "def test_graph_algorithms():\n",
    "    \"\"\"Test các thuật toán với đồ thị đơn giản\"\"\"\n",
    "    g = Graph()\n",
    "    \n",
    "    # Tạo đồ thị test\n",
    "    g.add_edge('A', 'B', 4)\n",
    "    g.add_edge('A', 'C', 2)\n",
    "    g.add_edge('B', 'D', 3)\n",
    "    g.add_edge('B', 'E', 1)\n",
    "    g.add_edge('C', 'F', 5)\n",
    "    g.add_edge('D', 'G', 2)\n",
    "    g.add_edge('E', 'G', 3)\n",
    "    g.add_edge('F', 'G', 1)\n",
    "    \n",
    "    start, goal = 'A', 'G'\n",
    "    \n",
    "    print(\"=== TEST ĐỒ THỊ ===\")\n",
    "    print(\"Đồ thị: A->B(4),C(2) | B->D(3),E(1) | C->F(5) | D,E,F->G\")\n",
    "    print(f\"Tìm đường từ {start} đến {goal}:\\n\")\n",
    "    \n",
    "    algorithms = [\n",
    "        (\"BFS\", lambda: bfs(g, start, goal)),\n",
    "        (\"UCS\", lambda: ucs(g, start, goal)),\n",
    "        (\"DFS\", lambda: dfs(g, start, goal)),\n",
    "        (\"DLS\", lambda: dls(g, start, goal, 3)),\n",
    "        (\"IDS\", lambda: ids(g, start, goal, 5))\n",
    "    ]\n",
    "    \n",
    "    for name, func in algorithms:\n",
    "        result = func()\n",
    "        print(f\"{name}: {result}\")\n",
    "        \n",
    "test_graph_algorithms()"
   ]
  },
  {
   "cell_type": "markdown",
   "id": "2fa9757f",
   "metadata": {},
   "source": [
    "# Bài 2/ Phát sinh chuỗi ngẫu nhiên \"HELLO WORLD\""
   ]
  },
  {
   "cell_type": "markdown",
   "id": "66b3d277",
   "metadata": {},
   "source": [
    "a/ BFS"
   ]
  },
  {
   "cell_type": "code",
   "execution_count": 2,
   "id": "f590ffce",
   "metadata": {},
   "outputs": [
    {
     "name": "stdout",
     "output_type": "stream",
     "text": [
      "=== TEST BFS HELLO WORLD (CÓ HEURISTIC) ===\n",
      "Heuristic: Đi theo đường dẫn tiềm năng nhất đến 'HELLO WORLD'\n",
      "Cho phép sai lệch tối đa 20% hoặc 2 ký tự\n",
      "\n",
      "BFS tìm thấy đường đi!\n",
      "Độ dài: 12 bước\n",
      "Thời gian: 0.309118 giây\n",
      "Kết quả cuối: 'HELLO WORLD'\n",
      "Đường đi đầy đủ:\n",
      " Bước 0: ''\n",
      " Bước 1: 'H'\n",
      " Bước 2: 'HE'\n",
      " Bước 3: 'HEL'\n",
      " Bước 4: 'HELL'\n",
      " Bước 5: 'HELLO'\n",
      " Bước 6: 'HELLO '\n",
      " Bước 7: 'HELLO W'\n",
      " Bước 8: 'HELLO WO'\n",
      " Bước 9: 'HELLO WOR'\n",
      " Bước 10: 'HELLO WORL'\n",
      " Bước 11: 'HELLO WORLD'\n"
     ]
    }
   ],
   "source": [
    "# Test BFS với HEURISTIC\n",
    "print(\"=== TEST BFS HELLO WORLD (CÓ HEURISTIC) ===\")\n",
    "print(\"Heuristic: Đi theo đường dẫn tiềm năng nhất đến 'HELLO WORLD'\")\n",
    "print(\"Cho phép sai lệch tối đa 20% hoặc 2 ký tự\")\n",
    "print()\n",
    "\n",
    "start_time = time.time()\n",
    "result_bfs = bfs_hello()\n",
    "end_time = time.time()\n",
    "\n",
    "if result_bfs:\n",
    "    print(f\"BFS tìm thấy đường đi!\")\n",
    "    print(f\"Độ dài: {len(result_bfs)} bước\")\n",
    "    print(f\"Thời gian: {end_time - start_time:.6f} giây\")\n",
    "    print(f\"Kết quả cuối: '{result_bfs[-1]}'\")\n",
    "    print(f\"Đường đi đầy đủ:\")\n",
    "    for i, state in enumerate(result_bfs):\n",
    "        print(f\" Bước {i}: '{state}'\")\n",
    "else:\n",
    "    print(\"Không tìm thấy đường đi\")"
   ]
  },
  {
   "cell_type": "markdown",
   "id": "24eac844",
   "metadata": {},
   "source": [
    "b/ UCS"
   ]
  },
  {
   "cell_type": "code",
   "execution_count": 3,
   "id": "bbb25f83",
   "metadata": {},
   "outputs": [
    {
     "name": "stdout",
     "output_type": "stream",
     "text": [
      "=== TEST UCS HELLO WORLD (CÓ HEURISTIC) ===\n",
      "UCS tìm thấy đường đi!\n",
      "Độ dài: 12 bước\n",
      "Chi phí: 11\n",
      "Thời gian: 0.658925 giây\n",
      "Kết quả cuối: 'HELLO WORLD'\n"
     ]
    }
   ],
   "source": [
    "# Test UCS với HEURISTIC\n",
    "print(\"=== TEST UCS HELLO WORLD (CÓ HEURISTIC) ===\")\n",
    "start_time = time.time()\n",
    "result_ucs, cost_ucs = ucs_hello()\n",
    "end_time = time.time()\n",
    "\n",
    "if result_ucs:\n",
    "    print(f\"UCS tìm thấy đường đi!\")\n",
    "    print(f\"Độ dài: {len(result_ucs)} bước\")\n",
    "    print(f\"Chi phí: {cost_ucs}\")\n",
    "    print(f\"Thời gian: {end_time - start_time:.6f} giây\")\n",
    "    print(f\"Kết quả cuối: '{result_ucs[-1]}'\")\n",
    "else:\n",
    "    print(\"Không tìm thấy đường đi\")"
   ]
  },
  {
   "cell_type": "markdown",
   "id": "6e4f0df7",
   "metadata": {},
   "source": [
    "c/ DFS"
   ]
  },
  {
   "cell_type": "code",
   "execution_count": 4,
   "id": "b3730e00",
   "metadata": {},
   "outputs": [
    {
     "name": "stdout",
     "output_type": "stream",
     "text": [
      "=== TEST DFS HELLO WORLD (CÓ HEURISTIC + GIỚI HẠN) ===\n",
      "Giới hạn độ sâu = 11 (= độ dài HELLO WORLD)\n",
      "\n",
      "DFS tìm thấy đường đi!\n",
      "Độ dài: 12 bước\n",
      "Thời gian: 0.258244 giây\n",
      "Kết quả cuối: 'HELLO WORLD'\n"
     ]
    }
   ],
   "source": [
    "# Test DFS với HEURISTIC và GIỚI HẠN ĐỘ SÂU\n",
    "print(\"=== TEST DFS HELLO WORLD (CÓ HEURISTIC + GIỚI HẠN) ===\")\n",
    "print(\"Giới hạn độ sâu = 11 (= độ dài HELLO WORLD)\")\n",
    "print()\n",
    "\n",
    "start_time = time.time()\n",
    "result_dfs = dfs_hello()  # Mặc định max_depth=11\n",
    "end_time = time.time()\n",
    "\n",
    "if result_dfs:\n",
    "    print(f\"DFS tìm thấy đường đi!\")\n",
    "    print(f\"Độ dài: {len(result_dfs)} bước\")\n",
    "    print(f\"Thời gian: {end_time - start_time:.6f} giây\")\n",
    "    print(f\"Kết quả cuối: '{result_dfs[-1]}'\")\n",
    "else:\n",
    "    print(\"Không tìm thấy đường đi\")"
   ]
  },
  {
   "cell_type": "markdown",
   "id": "e4290840",
   "metadata": {},
   "source": [
    "d/ DLS và IDS"
   ]
  },
  {
   "cell_type": "code",
   "execution_count": 5,
   "id": "eb8d3c23",
   "metadata": {},
   "outputs": [
    {
     "name": "stdout",
     "output_type": "stream",
     "text": [
      "=== TEST DLS VÀ IDS (CÓ HEURISTIC) ===\n",
      "DLS (limit=11):\n",
      "DLS tìm thấy đường đi!\n",
      "Độ dài: 12 bước\n",
      "Thời gian: 0.267787 giây\n",
      "\n",
      "IDS (max_depth=11):\n",
      "IDS tìm thấy đường đi!\n",
      "Độ dài: 12 bước\n",
      "Thời gian: 0.517181 giây\n"
     ]
    }
   ],
   "source": [
    "# Test DLS và IDS với HEURISTIC\n",
    "print(\"=== TEST DLS VÀ IDS (CÓ HEURISTIC) ===\")\n",
    "\n",
    "# DLS với limit chính xác\n",
    "print(\"DLS (limit=11):\")\n",
    "start_time = time.time()\n",
    "result_dls = dls_hello('', 11)  \n",
    "end_time = time.time()\n",
    "\n",
    "if result_dls:\n",
    "    print(f\"DLS tìm thấy đường đi!\")\n",
    "    print(f\"Độ dài: {len(result_dls)} bước\")\n",
    "    print(f\"Thời gian: {end_time - start_time:.6f} giây\")\n",
    "else:\n",
    "    print(\"DLS không tìm thấy trong giới hạn\")\n",
    "\n",
    "print()\n",
    "\n",
    "# IDS với max_depth chính xác  \n",
    "print(\"IDS (max_depth=11):\")\n",
    "start_time = time.time()\n",
    "result_ids = ids_hello(11)\n",
    "end_time = time.time()\n",
    "\n",
    "if result_ids:\n",
    "    print(f\"IDS tìm thấy đường đi!\")\n",
    "    print(f\"Độ dài: {len(result_ids)} bước\")\n",
    "    print(f\"Thời gian: {end_time - start_time:.6f} giây\")\n",
    "else:\n",
    "    print(\"IDS không tìm thấy trong max_depth\")"
   ]
  },
  {
   "cell_type": "markdown",
   "id": "6db15f2d",
   "metadata": {},
   "source": [
    "# Bài 3/ 8-Puzzle (Ô chữ 8 số)"
   ]
  },
  {
   "cell_type": "code",
   "execution_count": 6,
   "id": "9c185ae1",
   "metadata": {},
   "outputs": [
    {
     "name": "stdout",
     "output_type": "stream",
     "text": [
      "=== BÀI TOÁN 8-PUZZLE ===\n",
      "\n",
      "Mục tiêu:\n",
      "┌─────────┐\n",
      "│ 1  2  3 │\n",
      "│ 8     4 │\n",
      "│ 7  6  5 │\n",
      "└─────────┘\n",
      "\n",
      "Ban đầu:\n",
      "┌─────────┐\n",
      "│ 1  4    │\n",
      "│ 5  2  3 │\n",
      "│ 7  6  8 │\n",
      "└─────────┘\n",
      "\n",
      "Manhattan distance từ ban đầu đến mục tiêu: 10\n",
      "Các action có thể ban đầu: ['DOWN', 'LEFT']\n",
      "Heuristic: Sắp xếp theo Manhattan distance + loại bỏ output lặp\n"
     ]
    }
   ],
   "source": [
    "# Khởi tạo và hiển thị bài toán 8-puzzle\n",
    "problem = PuzzleProblem()\n",
    "print(\"=== BÀI TOÁN 8-PUZZLE ===\")\n",
    "print(\"\\nMục tiêu:\")\n",
    "problem.print_state(GOAL_STATE)\n",
    "\n",
    "print(\"\\nBan đầu:\")\n",
    "problem.print_state(problem.initial_state)\n",
    "\n",
    "print(f\"\\nManhattan distance từ ban đầu đến mục tiêu: {manhattan_distance(problem.initial_state)}\")\n",
    "print(\"Các action có thể ban đầu:\", problem.actions(problem.initial_state))\n",
    "print(\"Heuristic: Sắp xếp theo Manhattan distance + loại bỏ output lặp\")"
   ]
  },
  {
   "cell_type": "markdown",
   "id": "9e9754f3",
   "metadata": {},
   "source": [
    "a/ BFS cho 8-puzzle"
   ]
  },
  {
   "cell_type": "code",
   "execution_count": 7,
   "id": "3a3d19c9",
   "metadata": {},
   "outputs": [
    {
     "name": "stdout",
     "output_type": "stream",
     "text": [
      "=== TEST BFS 8-PUZZLE ===\n",
      "BFS tìm thấy đường đi!\n",
      "Số bước: 20\n",
      "Thời gian: 2.1888 giây\n",
      "\n",
      "Các bước giải:\n",
      "\n",
      "Ban đầu:\n",
      "┌─────────┐\n",
      "│ 1  4    │\n",
      "│ 5  2  3 │\n",
      "│ 7  6  8 │\n",
      "└─────────┘\n",
      "    ↓\n",
      "Bước 1:\n",
      "┌─────────┐\n",
      "│ 1     4 │\n",
      "│ 5  2  3 │\n",
      "│ 7  6  8 │\n",
      "└─────────┘\n",
      "    ↓\n",
      "Bước 2:\n",
      "┌─────────┐\n",
      "│ 1  2  4 │\n",
      "│ 5     3 │\n",
      "│ 7  6  8 │\n",
      "└─────────┘\n",
      "    ↓\n",
      "Bước 3:\n",
      "┌─────────┐\n",
      "│ 1  2  4 │\n",
      "│    5  3 │\n",
      "│ 7  6  8 │\n",
      "└─────────┘\n",
      "    ↓\n",
      "Bước 4:\n",
      "┌─────────┐\n",
      "│    2  4 │\n",
      "│ 1  5  3 │\n",
      "│ 7  6  8 │\n",
      "└─────────┘\n",
      "    ↓\n",
      "Bước 5:\n",
      "┌─────────┐\n",
      "│ 2     4 │\n",
      "│ 1  5  3 │\n",
      "│ 7  6  8 │\n",
      "└─────────┘\n",
      "    ↓\n",
      "Bước 6:\n",
      "┌─────────┐\n",
      "│ 2  4    │\n",
      "│ 1  5  3 │\n",
      "│ 7  6  8 │\n",
      "└─────────┘\n",
      "    ↓\n",
      "Bước 7:\n",
      "┌─────────┐\n",
      "│ 2  4  3 │\n",
      "│ 1  5    │\n",
      "│ 7  6  8 │\n",
      "└─────────┘\n",
      "    ↓\n",
      "Bước 8:\n",
      "┌─────────┐\n",
      "│ 2  4  3 │\n",
      "│ 1     5 │\n",
      "│ 7  6  8 │\n",
      "└─────────┘\n",
      "    ↓\n",
      "Bước 9:\n",
      "┌─────────┐\n",
      "│ 2     3 │\n",
      "│ 1  4  5 │\n",
      "│ 7  6  8 │\n",
      "└─────────┘\n",
      "    ↓\n",
      "Bước 10:\n",
      "┌─────────┐\n",
      "│    2  3 │\n",
      "│ 1  4  5 │\n",
      "│ 7  6  8 │\n",
      "└─────────┘\n",
      "    ↓\n",
      "Bước 11:\n",
      "┌─────────┐\n",
      "│ 1  2  3 │\n",
      "│    4  5 │\n",
      "│ 7  6  8 │\n",
      "└─────────┘\n",
      "    ↓\n",
      "Bước 12:\n",
      "┌─────────┐\n",
      "│ 1  2  3 │\n",
      "│ 7  4  5 │\n",
      "│    6  8 │\n",
      "└─────────┘\n",
      "    ↓\n",
      "Bước 13:\n",
      "┌─────────┐\n",
      "│ 1  2  3 │\n",
      "│ 7  4  5 │\n",
      "│ 6     8 │\n",
      "└─────────┘\n",
      "    ↓\n",
      "Bước 14:\n",
      "┌─────────┐\n",
      "│ 1  2  3 │\n",
      "│ 7  4  5 │\n",
      "│ 6  8    │\n",
      "└─────────┘\n",
      "    ↓\n",
      "Bước 15:\n",
      "┌─────────┐\n",
      "│ 1  2  3 │\n",
      "│ 7  4    │\n",
      "│ 6  8  5 │\n",
      "└─────────┘\n",
      "    ↓\n",
      "Bước 16:\n",
      "┌─────────┐\n",
      "│ 1  2  3 │\n",
      "│ 7     4 │\n",
      "│ 6  8  5 │\n",
      "└─────────┘\n",
      "    ↓\n",
      "Bước 17:\n",
      "┌─────────┐\n",
      "│ 1  2  3 │\n",
      "│ 7  8  4 │\n",
      "│ 6     5 │\n",
      "└─────────┘\n",
      "    ↓\n",
      "Bước 18:\n",
      "┌─────────┐\n",
      "│ 1  2  3 │\n",
      "│ 7  8  4 │\n",
      "│    6  5 │\n",
      "└─────────┘\n",
      "    ↓\n",
      "Bước 19:\n",
      "┌─────────┐\n",
      "│ 1  2  3 │\n",
      "│    8  4 │\n",
      "│ 7  6  5 │\n",
      "└─────────┘\n",
      "    ↓\n",
      "Bước 20:\n",
      "┌─────────┐\n",
      "│ 1  2  3 │\n",
      "│ 8     4 │\n",
      "│ 7  6  5 │\n",
      "└─────────┘\n"
     ]
    }
   ],
   "source": [
    "# Test BFS cho 8-puzzle\n",
    "print(\"=== TEST BFS 8-PUZZLE ===\")\n",
    "start_time = time.time()\n",
    "result_bfs = bfs_puzzle()\n",
    "end_time = time.time()\n",
    "\n",
    "if result_bfs:\n",
    "    print(f\"BFS tìm thấy đường đi!\")\n",
    "    print(f\"Số bước: {len(result_bfs) - 1}\")\n",
    "    print(f\"Thời gian: {end_time - start_time:.4f} giây\")\n",
    "    \n",
    "    print(\"\\nCác bước giải:\\n\")\n",
    "    for i, state in enumerate(result_bfs):\n",
    "        if (i==0):\n",
    "            print(\"Ban đầu:\")\n",
    "            problem.print_state(problem.initial_state)\n",
    "            print(\"    ↓\")\n",
    "            continue\n",
    "        print(f\"Bước {i}:\")\n",
    "        problem.print_state(state)\n",
    "        if i < len(result_bfs) - 1:\n",
    "            print(\"    ↓\")\n",
    "else:\n",
    "    print(\"Không tìm thấy đường đi\")"
   ]
  },
  {
   "cell_type": "markdown",
   "id": "715d067f",
   "metadata": {},
   "source": [
    "b/ UCS cho 8-puzzle"
   ]
  },
  {
   "cell_type": "code",
   "execution_count": 8,
   "id": "019ca9b7",
   "metadata": {},
   "outputs": [
    {
     "name": "stdout",
     "output_type": "stream",
     "text": [
      "=== TEST UCS 8-PUZZLE ===\n",
      "UCS tìm thấy đường đi!\n",
      "Số bước: 20\n",
      "Chi phí: 20\n",
      "Thời gian: 0.3303 giây\n",
      "UCS cho kết quả giống BFS vì mỗi action có cost = 1\n"
     ]
    }
   ],
   "source": [
    "# Test UCS cho 8-puzzle\n",
    "print(\"=== TEST UCS 8-PUZZLE ===\")\n",
    "start_time = time.time()\n",
    "result_ucs, cost_ucs = ucs_puzzle()\n",
    "end_time = time.time()\n",
    "\n",
    "if result_ucs:\n",
    "    print(f\"UCS tìm thấy đường đi!\")\n",
    "    print(f\"Số bước: {len(result_ucs) - 1}\")\n",
    "    print(f\"Chi phí: {cost_ucs}\")\n",
    "    print(f\"Thời gian: {end_time - start_time:.4f} giây\")\n",
    "    print(\"UCS cho kết quả giống BFS vì mỗi action có cost = 1\")\n",
    "else:\n",
    "    print(\"Không tìm thấy đường đi\")"
   ]
  },
  {
   "cell_type": "markdown",
   "id": "38ce6cf6",
   "metadata": {},
   "source": [
    "c/ DFS, DLS, IDS cho 8-puzzle"
   ]
  },
  {
   "cell_type": "code",
   "execution_count": 9,
   "id": "9db46eec",
   "metadata": {},
   "outputs": [
    {
     "name": "stdout",
     "output_type": "stream",
     "text": [
      "=== TEST DFS, DLS, IDS 8-PUZZLE ===\n",
      "DFS (max_depth=20):\n",
      "DFS tìm thấy đường đi!\n",
      "Số bước: 20\n",
      "Thời gian: 6.3057 giây\n",
      "\n",
      "DLS (limit=20):\n",
      "DLS tìm thấy đường đi!\n",
      "Số bước: 20\n",
      "Thời gian: 6.2735 giây\n",
      "\n",
      "IDS (max_depth=20):\n",
      "IDS tìm thấy đường đi!\n",
      "Số bước: 20\n",
      "Thời gian: 22.0180 giây\n"
     ]
    }
   ],
   "source": [
    "# Test DFS, DLS, IDS cho 8-puzzle\n",
    "print(\"=== TEST DFS, DLS, IDS 8-PUZZLE ===\")\n",
    "\n",
    "# Test DFS với giới hạn độ sâu\n",
    "print(\"DFS (max_depth=20):\")\n",
    "start_time = time.time()\n",
    "result_dfs = dfs_puzzle(max_depth=20)\n",
    "end_time = time.time()\n",
    "\n",
    "if result_dfs:\n",
    "    print(f\"DFS tìm thấy đường đi!\")\n",
    "    print(f\"Số bước: {len(result_dfs) - 1}\")\n",
    "    print(f\"Thời gian: {end_time - start_time:.4f} giây\")\n",
    "else:\n",
    "    print(\"DFS không tìm thấy trong giới hạn\")\n",
    "\n",
    "print()\n",
    "\n",
    "# Test DLS\n",
    "print(\"DLS (limit=20):\")\n",
    "start_time = time.time()\n",
    "result_dls = dls_puzzle(limit=20)\n",
    "end_time = time.time()\n",
    "\n",
    "if result_dls:\n",
    "    print(f\"DLS tìm thấy đường đi!\")\n",
    "    print(f\"Số bước: {len(result_dls) - 1}\")\n",
    "    print(f\"Thời gian: {end_time - start_time:.4f} giây\")\n",
    "else:\n",
    "    print(\"DLS không tìm thấy trong giới hạn\")\n",
    "\n",
    "print()\n",
    "\n",
    "# Test IDS\n",
    "print(\"IDS (max_depth=20):\")\n",
    "start_time = time.time()\n",
    "result_ids = ids_puzzle(max_depth=20)\n",
    "end_time = time.time()\n",
    "\n",
    "if result_ids:\n",
    "    print(f\"IDS tìm thấy đường đi!\")\n",
    "    print(f\"Số bước: {len(result_ids) - 1}\")\n",
    "    print(f\"Thời gian: {end_time - start_time:.4f} giây\")\n",
    "else:\n",
    "    print(\"IDS không tìm thấy trong max_depth\")"
   ]
  }
 ],
 "metadata": {
  "kernelspec": {
   "display_name": "Python 3",
   "language": "python",
   "name": "python3"
  },
  "language_info": {
   "codemirror_mode": {
    "name": "ipython",
    "version": 3
   },
   "file_extension": ".py",
   "mimetype": "text/x-python",
   "name": "python",
   "nbconvert_exporter": "python",
   "pygments_lexer": "ipython3",
   "version": "3.13.5"
  }
 },
 "nbformat": 4,
 "nbformat_minor": 5
}
