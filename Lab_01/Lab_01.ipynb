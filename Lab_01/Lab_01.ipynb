{
 "cells": [
  {
   "cell_type": "markdown",
   "id": "196e9709",
   "metadata": {},
   "source": [
    "IMPORT CÁC MODULE"
   ]
  },
  {
   "cell_type": "code",
   "execution_count": null,
   "id": "be4d4ae2",
   "metadata": {},
   "outputs": [],
   "source": [
    "# Import các module đã tách riêng\n",
    "from Search_algorithms import Graph, bfs, ucs, dfs, dls, ids\n",
    "from Hello_problem import HelloProblem, bfs_hello, ucs_hello, dfs_hello, dls_hello, ids_hello, GOAL\n",
    "\n",
    "print(\"Import thành công các module:\")\n",
    "print(\"- search_algorithms: 5 thuật toán tìm kiếm + Graph\")\n",
    "print(\"- hello_problem: Bài toán HELLO WORLD + 5 thuật toán tối ưu\")"
   ]
  },
  {
   "cell_type": "markdown",
   "id": "5ac270e9",
   "metadata": {},
   "source": [
    "Bài 1/ Tìm đường đi ngắn nhất"
   ]
  },
  {
   "cell_type": "code",
   "execution_count": null,
   "id": "b9dee2d7",
   "metadata": {},
   "outputs": [],
   "source": [
    "# Test thuật toán với đồ thị\n",
    "\n",
    "def test_graph_algorithms():\n",
    "    \"\"\"Test các thuật toán với đồ thị đơn giản\"\"\"\n",
    "    g = Graph()\n",
    "    \n",
    "    # Tạo đồ thị test\n",
    "    g.add_edge('A', 'B', 4)\n",
    "    g.add_edge('A', 'C', 2)\n",
    "    g.add_edge('B', 'D', 3)\n",
    "    g.add_edge('B', 'E', 1)\n",
    "    g.add_edge('C', 'F', 5)\n",
    "    g.add_edge('D', 'G', 2)\n",
    "    g.add_edge('E', 'G', 3)\n",
    "    g.add_edge('F', 'G', 1)\n",
    "    \n",
    "    start, goal = 'A', 'G'\n",
    "    \n",
    "    print(\"=== TEST ĐỒ THỊ ===\")\n",
    "    print(\"Đồ thị: A->B(4),C(2) | B->D(3),E(1) | C->F(5) | D,E,F->G\")\n",
    "    print(f\"Tìm đường từ {start} đến {goal}:\\n\")\n",
    "    \n",
    "    algorithms = [\n",
    "        (\"BFS\", lambda: bfs(g, start, goal)),\n",
    "        (\"UCS\", lambda: ucs(g, start, goal)),\n",
    "        (\"DFS\", lambda: dfs(g, start, goal)),\n",
    "        (\"DLS\", lambda: dls(g, start, goal, 3)),\n",
    "        (\"IDS\", lambda: ids(g, start, goal, 5))\n",
    "    ]\n",
    "    \n",
    "    for name, func in algorithms:\n",
    "        result = func()\n",
    "        print(f\"{name}: {result}\")\n",
    "        \n",
    "test_graph_algorithms()"
   ]
  },
  {
   "cell_type": "markdown",
   "id": "55df8458",
   "metadata": {},
   "source": [
    "Bài 2/ Phát sinh chuỗi ngẫu nhiên"
   ]
  },
  {
   "cell_type": "markdown",
   "id": "53f3155f",
   "metadata": {},
   "source": [
    "a/ BFS\n"
   ]
  },
  {
   "cell_type": "code",
   "execution_count": null,
   "id": "3af0c6ee",
   "metadata": {},
   "outputs": [],
   "source": [
    "# Test BFS với HEURISTIC\n",
    "import time\n",
    "\n",
    "print(\"=== TEST BFS HELLO WORLD (CÓ HEURISTIC) ===\")\n",
    "print(\"Heuristic: Chỉ đi theo đúng đường dẫn đến 'HELLO WORLD'\")\n",
    "\"\"\" Giảm không gian tìm kiếm từ 27^11 xuống chỉ 11 bước \"\"\"\n",
    "print()\n",
    "\n",
    "start_time = time.time()\n",
    "result_bfs = bfs_hello()\n",
    "end_time = time.time()\n",
    "\n",
    "if result_bfs:\n",
    "    print(f\"BFS tìm thấy đường đi!\")\n",
    "    print(f\"Độ dài: {len(result_bfs)} bước\")\n",
    "    print(f\"Thời gian: {end_time - start_time:.6f} giây\")\n",
    "    print(f\"Kết quả cuối: '{result_bfs[-1]}'\")\n",
    "    print(f\"Đường đi đầy đủ:\")\n",
    "    for i, state in enumerate(result_bfs):\n",
    "        print(f\" Bước {i}: '{state}'\")\n",
    "else:\n",
    "    print(\"Không tìm thấy đường đi\")"
   ]
  },
  {
   "cell_type": "markdown",
   "id": "715e1757",
   "metadata": {},
   "source": [
    "b/ UCS"
   ]
  },
  {
   "cell_type": "code",
   "execution_count": null,
   "id": "153c727b",
   "metadata": {},
   "outputs": [],
   "source": [
    "# Test UCS với HEURISTIC\n",
    "print(\"=== TEST UCS HELLO WORLD (CÓ HEURISTIC) ===\")\n",
    "start_time = time.time()\n",
    "result_ucs, cost_ucs = ucs_hello()\n",
    "end_time = time.time()\n",
    "\n",
    "if result_ucs:\n",
    "    print(f\"UCS tìm thấy đường đi!\")\n",
    "    print(f\"Độ dài: {len(result_ucs)} bước\")\n",
    "    print(f\"Chi phí: {cost_ucs}\")\n",
    "    print(f\"Thời gian: {end_time - start_time:.6f} giây\")\n",
    "    print(f\"Kết quả cuối: '{result_ucs[-1]}'\")\n",
    "else:\n",
    "    print(\"Không tìm thấy đường đi\")"
   ]
  },
  {
   "cell_type": "markdown",
   "id": "ca224b86",
   "metadata": {},
   "source": [
    "c/ DFS"
   ]
  },
  {
   "cell_type": "code",
   "execution_count": null,
   "id": "0adfd698",
   "metadata": {},
   "outputs": [],
   "source": [
    "# Test DFS với HEURISTIC và GIỚI HẠN ĐỘ SÂU\n",
    "print(\"=== TEST DFS HELLO WORLD (CÓ HEURISTIC + GIỚI HẠN) ===\")\n",
    "print(\"Giới hạn độ sâu = 11 (= độ dài HELLO WORLD)\")\n",
    "print()\n",
    "\n",
    "start_time = time.time()\n",
    "result_dfs = dfs_hello()  # Mặc định max_depth=11\n",
    "end_time = time.time()\n",
    "\n",
    "if result_dfs:\n",
    "    print(f\"DFS tìm thấy đường đi!\")\n",
    "    print(f\"Độ dài: {len(result_dfs)} bước\")\n",
    "    print(f\"Thời gian: {end_time - start_time:.6f} giây\")\n",
    "    print(f\"Kết quả cuối: '{result_dfs[-1]}'\")\n",
    "else:\n",
    "    print(\"Không tìm thấy đường đi\")"
   ]
  },
  {
   "cell_type": "markdown",
   "id": "a140ba9d",
   "metadata": {},
   "source": [
    "d/ DLS và IDS"
   ]
  },
  {
   "cell_type": "code",
   "execution_count": null,
   "id": "b575c3eb",
   "metadata": {},
   "outputs": [],
   "source": [
    "# Test DLS và IDS với HEURISTIC\n",
    "print(\"=== TEST DLS VÀ IDS (CÓ HEURISTIC) ===\")\n",
    "\n",
    "# DLS với limit chính xác\n",
    "print(\"DLS (limit=11 - chính xác độ dài HELLO WORLD):\")\n",
    "start_time = time.time()\n",
    "result_dls = dls_hello('', 11)  \n",
    "end_time = time.time()\n",
    "\n",
    "if result_dls:\n",
    "    print(f\"DLS tìm thấy đường đi!\")\n",
    "    print(f\"Độ dài: {len(result_dls)} bước\")\n",
    "    print(f\"Thời gian: {end_time - start_time:.6f} giây\")\n",
    "else:\n",
    "    print(\"DLS không tìm thấy trong giới hạn\")\n",
    "\n",
    "print()\n",
    "\n",
    "# IDS với max_depth chính xác  \n",
    "print(\"IDS (max_depth=11):\")\n",
    "start_time = time.time()\n",
    "result_ids = ids_hello(11)\n",
    "end_time = time.time()\n",
    "\n",
    "if result_ids:\n",
    "    print(f\"IDS tìm thấy đường đi!\")\n",
    "    print(f\"Độ dài: {len(result_ids)} bước\")\n",
    "    print(f\"Thời gian: {end_time - start_time:.6f} giây\")\n",
    "else:\n",
    "    print(\"IDS không tìm thấy trong max_depth\")"
   ]
  },
  {
   "cell_type": "markdown",
   "id": "6db15f2d",
   "metadata": {},
   "source": [
    "Bài 3/ 8-Puzzle (Ô chữ 8 số)"
   ]
  },
  {
   "cell_type": "code",
   "execution_count": null,
   "id": "54e0127f",
   "metadata": {},
   "outputs": [],
   "source": [
    "# Import bài toán 8-puzzle\n",
    "from Puzzle_problem import (PuzzleProblem, GOAL_STATE, \n",
    "                           bfs_puzzle, ucs_puzzle, dfs_puzzle, \n",
    "                           dls_puzzle, ids_puzzle, manhattan_distance)\n",
    "\n",
    "# Khởi tạo và hiển thị bài toán\n",
    "problem = PuzzleProblem()\n",
    "print(\"=== BÀI TOÁN 8-PUZZLE ===\")\n",
    "print(\"\\nMục tiêu:\")\n",
    "problem.print_state(GOAL_STATE)\n",
    "\n",
    "print(\"\\nBan đầu:\")\n",
    "problem.print_state(problem.initial_state)\n",
    "\n",
    "print(f\"\\nManhattan distance từ ban đầu đến mục tiêu: {manhattan_distance(problem.initial_state)}\")\n",
    "print(\"Các action có thể ban đầu:\", problem.actions(problem.initial_state))"
   ]
  },
  {
   "cell_type": "markdown",
   "id": "9e9754f3",
   "metadata": {},
   "source": [
    "a/ BFS cho 8-puzzle"
   ]
  },
  {
   "cell_type": "code",
   "execution_count": null,
   "id": "3a3d19c9",
   "metadata": {},
   "outputs": [],
   "source": [
    "# Test BFS cho 8-puzzle\n",
    "import time\n",
    "\n",
    "print(\"=== TEST BFS 8-PUZZLE ===\")\n",
    "start_time = time.time()\n",
    "result_bfs = bfs_puzzle()\n",
    "end_time = time.time()\n",
    "\n",
    "if result_bfs:\n",
    "    print(f\"BFS tìm thấy đường đi!\")\n",
    "    print(f\"Số bước: {len(result_bfs) - 1}\")\n",
    "    print(f\"Thời gian: {end_time - start_time:.4f} giây\")\n",
    "    \n",
    "    print(\"\\nCác bước giải:\\n\")\n",
    "    for i, state in enumerate(result_bfs):\n",
    "        if (i==0):\n",
    "            print(\"Ban đầu:\")\n",
    "            problem.print_state(problem.initial_state)\n",
    "            print(\"    ↓\")\n",
    "            continue\n",
    "        print(f\"Bước {i}:\")\n",
    "        problem.print_state(state)\n",
    "        if i < len(result_bfs) - 1:\n",
    "            print(\"    ↓\")\n",
    "else:\n",
    "    print(\"Không tìm thấy đường đi\")"
   ]
  },
  {
   "cell_type": "markdown",
   "id": "715d067f",
   "metadata": {},
   "source": [
    "b/ UCS cho 8-puzzle"
   ]
  },
  {
   "cell_type": "code",
   "execution_count": null,
   "id": "019ca9b7",
   "metadata": {},
   "outputs": [],
   "source": [
    "# Test UCS cho 8-puzzle\n",
    "print(\"=== TEST UCS 8-PUZZLE ===\")\n",
    "start_time = time.time()\n",
    "result_ucs, cost_ucs = ucs_puzzle()\n",
    "end_time = time.time()\n",
    "\n",
    "if result_ucs:\n",
    "    print(f\"UCS tìm thấy đường đi!\")\n",
    "    print(f\"Số bước: {len(result_ucs) - 1}\")\n",
    "    print(f\"Chi phí: {cost_ucs}\")\n",
    "    print(f\"Thời gian: {end_time - start_time:.4f} giây\")\n",
    "    print(\"UCS cho kết quả giống BFS vì mỗi action có cost = 1\")\n",
    "else:\n",
    "    print(\"Không tìm thấy đường đi\")"
   ]
  },
  {
   "cell_type": "markdown",
   "id": "38ce6cf6",
   "metadata": {},
   "source": [
    "c/ DFS, DLS, IDS cho 8-puzzle"
   ]
  },
  {
   "cell_type": "code",
   "execution_count": null,
   "id": "9db46eec",
   "metadata": {},
   "outputs": [],
   "source": [
    "# Test DFS, DLS, IDS cho 8-puzzle\n",
    "print(\"=== TEST DFS, DLS, IDS 8-PUZZLE ===\")\n",
    "\n",
    "# Test DFS với giới hạn độ sâu\n",
    "print(\"DFS (max_depth=20):\")\n",
    "start_time = time.time()\n",
    "result_dfs = dfs_puzzle(max_depth=20)\n",
    "end_time = time.time()\n",
    "\n",
    "if result_dfs:\n",
    "    print(f\"DFS tìm thấy đường đi!\")\n",
    "    print(f\"Số bước: {len(result_dfs) - 1}\")\n",
    "    print(f\"Thời gian: {end_time - start_time:.4f} giây\")\n",
    "else:\n",
    "    print(\"DFS không tìm thấy trong giới hạn\")\n",
    "\n",
    "print()\n",
    "\n",
    "# Test DLS\n",
    "print(\"DLS (limit=20):\")\n",
    "start_time = time.time()\n",
    "result_dls = dls_puzzle(limit=20)\n",
    "end_time = time.time()\n",
    "\n",
    "if result_dls:\n",
    "    print(f\"DLS tìm thấy đường đi!\")\n",
    "    print(f\"Số bước: {len(result_dls) - 1}\")\n",
    "    print(f\"Thời gian: {end_time - start_time:.4f} giây\")\n",
    "else:\n",
    "    print(\"DLS không tìm thấy trong giới hạn\")\n",
    "\n",
    "print()\n",
    "\n",
    "# Test IDS\n",
    "print(\"IDS (max_depth=20):\")\n",
    "start_time = time.time()\n",
    "result_ids = ids_puzzle(max_depth=20)\n",
    "end_time = time.time()\n",
    "\n",
    "if result_ids:\n",
    "    print(f\"IDS tìm thấy đường đi!\")\n",
    "    print(f\"Số bước: {len(result_ids) - 1}\")\n",
    "    print(f\"Thời gian: {end_time - start_time:.4f} giây\")\n",
    "else:\n",
    "    print(\"IDS không tìm thấy trong max_depth\")"
   ]
  }
 ],
 "metadata": {
  "kernelspec": {
   "display_name": "Python 3",
   "language": "python",
   "name": "python3"
  },
  "language_info": {
   "codemirror_mode": {
    "name": "ipython",
    "version": 3
   },
   "file_extension": ".py",
   "mimetype": "text/x-python",
   "name": "python",
   "nbconvert_exporter": "python",
   "pygments_lexer": "ipython3",
   "version": "3.13.5"
  }
 },
 "nbformat": 4,
 "nbformat_minor": 5
}
